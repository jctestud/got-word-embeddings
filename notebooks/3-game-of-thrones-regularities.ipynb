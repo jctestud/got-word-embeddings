{
 "cells": [
  {
   "cell_type": "markdown",
   "metadata": {},
   "source": [
    "# 3- Addition and Similarity\n",
    "\n",
    "Here, we will try to find some \"useful\" Game of Thrones analogies."
   ]
  },
  {
   "cell_type": "code",
   "execution_count": 1,
   "metadata": {
    "collapsed": true
   },
   "outputs": [],
   "source": [
    "import pandas as pd\n",
    "import numpy as np\n",
    "import json\n",
    "import matplotlib.pyplot as plt\n",
    "\n",
    "df = pd.read_table(\"../data/got_word_vectors.txt\", delimiter=\" \", header=None, index_col=0)\n",
    "df = df.div(np.linalg.norm(df, axis=1), axis=0)\n",
    "characters = pd.read_csv(\"../data/got_characters.csv\")\n",
    "characters.index = characters[\"first_name\"]"
   ]
  },
  {
   "cell_type": "code",
   "execution_count": 2,
   "metadata": {
    "collapsed": true
   },
   "outputs": [],
   "source": [
    "# utility functions\n",
    "def most_similar(df, word, n=5, exceptions=[]):\n",
    "    \"\"\"Return the n most similar words\"\"\"\n",
    "    return df.loc[~df.index.isin(exceptions)].dot(word).sort_values(ascending=False).head(n)\n",
    "\n",
    "def op(operation, n=1):\n",
    "    \"\"\"Compute the vector addition \"w1 - w2 + w3\" and return the n most similar words\n",
    "        equation: w1 - w2 + w3 = w4\n",
    "        analogy: (w2 is to w3) as (w1 is to w4)\n",
    "    \"\"\"\n",
    "    w1, w2, w3 = operation.split()[::2]\n",
    "    vec = df.loc[w1] - df.loc[w2] + df.loc[w3]\n",
    "   \n",
    "    topn =  most_similar(\n",
    "        df, vec, \n",
    "        exceptions=[w1, w2, w3],\n",
    "        n=n+3\n",
    "    )\n",
    "    analogy = \"%s is to %s AS %s is to %s\" % (w2, w3, w1, \"?\")\n",
    "    top_res = [\"%s = %s (%.2f)\" % (analogy, topn.index[i], topn[i]) for i in range(n)]\n",
    "    print(\"\\n\".join(top_res))"
   ]
  },
  {
   "cell_type": "markdown",
   "metadata": {},
   "source": [
    "### Family Name"
   ]
  },
  {
   "cell_type": "code",
   "execution_count": 3,
   "metadata": {},
   "outputs": [
    {
     "name": "stdout",
     "output_type": "stream",
     "text": [
      "Jon Snow (0.603530)\n",
      "Eddard Stark (0.911670)\n",
      "Asha Greyjoy (0.787724)\n",
      "Doran Martell (0.972809)\n",
      "Edmure Tully (0.767302)\n",
      "Roose Bolton (0.996987)\n",
      "Renly Baratheon (1.053815)\n",
      "Loras Tyrell (0.827190)\n",
      "Daenerys Targaryen (0.770334)\n",
      "Sandor Clegane (0.908605)\n",
      "Jorah Mormont (0.636546)\n",
      "Tyrion Lannister (0.655923)\n",
      "Petyr Baelish (0.881676)\n",
      "Kevan Lannister (0.745010)\n",
      "Rhaegar Baratheon (0.742945)\n",
      "Margaery Tyrell (0.816739)\n"
     ]
    }
   ],
   "source": [
    "# custom offset vector for family naming\n",
    "v1 = df.loc[\"baratheon\"] - df.loc[\"robert\"]\n",
    "v2 = df.loc[\"lannister\"] - df.loc[\"jaime\"]\n",
    "v3 = df.loc[\"stark\"] - df.loc[\"catelyn\"]\n",
    "offset = np.mean([v1, v2, v3], axis=0)\n",
    "\n",
    "def family_name(first_name, n=1):\n",
    "    first_name = first_name.lower()\n",
    "    res = most_similar(\n",
    "        df, \n",
    "        df.loc[first_name] + offset, \n",
    "        n=n,\n",
    "        exceptions=[first_name]\n",
    "    )\n",
    "    for i in range(n):\n",
    "        last_name, score = res.index[i], res.values[i]\n",
    "        print(\"%s %s (%f)\" % (first_name.title(), last_name.title(), score))\n",
    "\n",
    "for first_name in [\"Jon\", \"Eddard\", \"Asha\", \"Doran\", \"Edmure\", \"Roose\", \"Renly\", \"Loras\", \"Daenerys\", \"Sandor\", \"Jorah\", \"Tyrion\", \"Petyr\", \"Kevan\", \"Rhaegar\", \"Margaery\"]:\n",
    "    family_name(first_name)"
   ]
  },
  {
   "cell_type": "markdown",
   "metadata": {},
   "source": [
    "### House to Seat relationship"
   ]
  },
  {
   "cell_type": "code",
   "execution_count": 4,
   "metadata": {},
   "outputs": [
    {
     "name": "stdout",
     "output_type": "stream",
     "text": [
      "stark is to winterfell AS tully is to ? = riverrun (0.79)\n",
      "stark is to winterfell AS martell is to ? = sunspear (0.82)\n"
     ]
    }
   ],
   "source": [
    "op(\"tully - stark + winterfell\")\n",
    "op(\"martell - stark + winterfell\")"
   ]
  },
  {
   "cell_type": "markdown",
   "metadata": {},
   "source": [
    "### Family Relations"
   ]
  },
  {
   "cell_type": "code",
   "execution_count": 5,
   "metadata": {},
   "outputs": [
    {
     "name": "stdout",
     "output_type": "stream",
     "text": [
      "child is to mother AS sansa is to ? = catelyn (0.84)\n",
      "sister is to brother AS arya is to ? = bran (0.57)\n",
      "wife is to husband AS catelyn is to ? = ned (0.79)\n",
      "wife is to husband AS cersei is to ? = jaime (0.64)\n",
      "cersei is to joffrey AS catelyn is to ? = robb (0.88)\n",
      "brother is to sister AS jaime is to ? = cersei (0.85)\n"
     ]
    }
   ],
   "source": [
    "op(\"sansa - child + mother\")\n",
    "op(\"arya - sister + brother\")\n",
    "op(\"catelyn - wife + husband\")\n",
    "op(\"cersei - wife + husband\")\n",
    "op(\"catelyn - cersei + joffrey\")\n",
    "op(\"jaime - brother + sister\")"
   ]
  },
  {
   "cell_type": "markdown",
   "metadata": {},
   "source": [
    "### R + L = J"
   ]
  },
  {
   "cell_type": "code",
   "execution_count": 6,
   "metadata": {},
   "outputs": [
    {
     "name": "stdout",
     "output_type": "stream",
     "text": [
      "nephew is to aunt AS jon is to ? = rafford (0.69)\n",
      "nephew is to uncle AS jon is to ? = wall (0.69)\n",
      "child is to father AS jon is to ? = eddard (0.77)\n",
      "child is to mother AS jon is to ? = catelyn (0.67)\n"
     ]
    }
   ],
   "source": [
    "op(\"jon - nephew + aunt\") # should be daenerys\n",
    "op(\"jon - nephew + uncle\") # should be viserys\n",
    "op(\"jon - child + father\") # should be rhaegar\n",
    "op(\"jon - child + mother\") # should be lyanna"
   ]
  },
  {
   "cell_type": "code",
   "execution_count": 7,
   "metadata": {},
   "outputs": [
    {
     "data": {
      "text/plain": [
       "0\n",
       "fathered      0.791592\n",
       "targaryen     0.765303\n",
       "princess      0.753265\n",
       "elia          0.750862\n",
       "khal          0.730476\n",
       "acceptance    0.718154\n",
       "lysene        0.704869\n",
       "wildling      0.693927\n",
       "dtype: float64"
      ]
     },
     "execution_count": 7,
     "metadata": {},
     "output_type": "execute_result"
    }
   ],
   "source": [
    "# last attempt with \"compositionality by vector addition\"\n",
    "# from \"Learning Representations of Text using Neural Networks\", Tomas Mikolov, NIPS 2013\n",
    "most_similar(\n",
    "    df, \n",
    "    df.loc[\"rhaegar\"] + df.loc[\"secret\"] + df.loc[\"child\"],\n",
    "    n=8,\n",
    "    exceptions = [\"rhaegar\", \"secret\", \"child\"]\n",
    ")"
   ]
  },
  {
   "cell_type": "markdown",
   "metadata": {},
   "source": [
    "#### Bonus Functions for \"multiplication-based analogy testing\""
   ]
  },
  {
   "cell_type": "code",
   "execution_count": 8,
   "metadata": {},
   "outputs": [
    {
     "name": "stdout",
     "output_type": "stream",
     "text": [
      "man is to woman AS king is to ? = queen (0.93)\n",
      "man is to woman AS king is to ? = margaery (0.91)\n",
      "man is to woman AS king is to ? = joffrey (0.86)\n"
     ]
    }
   ],
   "source": [
    "# Levy & Goldberg (2014) formula tested by: \n",
    "# http://www.marekrei.com/blog/linguistic-regularities-word-representations/\n",
    "# did not give better results in my case, but I leave it here.\n",
    "\n",
    "def most_similar_bis(df, a, b, c, n=1):\n",
    "    \"a is to b AS c is to ?\"\n",
    "    s = (df.dot(df.loc[c])+1)/2 * (df.dot(df.loc[b])+1)/2 / ((df.dot(df.loc[a])+1)/2 + 0.001)\n",
    "    return s[~s.index.isin([a,b,c])].sort_values(ascending=False).head(n)\n",
    "\n",
    "def op_bis(operation, n=1):\n",
    "    \"\"\"Compute the vector operation \"w1 - w2 + w3\" and return the n most similar words\"\"\"\n",
    "    w1, w2, w3 = operation.split()[::2]\n",
    "    topn =  most_similar_bis(df, w2, w3, w1, n=n+3)\n",
    "    analogy = \"%s is to %s AS %s is to %s\" % (w2, w3, w1, \"?\")\n",
    "    top_res = [\"%s = %s (%.2f)\" % (analogy, topn.index[i], topn[i]) for i in range(n)]\n",
    "    print(\"\\n\".join(top_res))\n",
    "\n",
    "op_bis(\"king - man + woman\", n=3)"
   ]
  }
 ],
 "metadata": {
  "anaconda-cloud": {},
  "kernelspec": {
   "display_name": "Python 3",
   "language": "python",
   "name": "python3"
  },
  "language_info": {
   "codemirror_mode": {
    "name": "ipython",
    "version": 3
   },
   "file_extension": ".py",
   "mimetype": "text/x-python",
   "name": "python",
   "nbconvert_exporter": "python",
   "pygments_lexer": "ipython3",
   "version": "3.5.2"
  }
 },
 "nbformat": 4,
 "nbformat_minor": 1
}
